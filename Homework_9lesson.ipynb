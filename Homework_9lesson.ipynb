{
 "cells": [
  {
   "cell_type": "code",
   "execution_count": 1,
   "id": "d5b2a93a",
   "metadata": {},
   "outputs": [],
   "source": [
    "def det_lag(x, y, h): #вычисление определителя матрицы для уравнения Лагранжа\n",
    "    return((x**2)*(-256-128*h)+1536*x*y+(y**2)*(-384-192*h))"
   ]
  },
  {
   "cell_type": "code",
   "execution_count": 2,
   "id": "ac0d9021",
   "metadata": {},
   "outputs": [],
   "source": [
    "from scipy.optimize import fsolve #решение системы уравнений\n",
    " \n",
    "def equations(p):\n",
    "    x, y, h = p\n",
    "    return (2*x+6*y+h*x, 3*x+16*y+8*h*y, x**2+16*y**2-64)"
   ]
  },
  {
   "cell_type": "code",
   "execution_count": 3,
   "id": "b7e173f9",
   "metadata": {},
   "outputs": [
    {
     "data": {
      "text/plain": [
       "(-5.656854249401228, 1.4142135623966046, -0.5000000000550301)"
      ]
     },
     "execution_count": 3,
     "metadata": {},
     "output_type": "execute_result"
    }
   ],
   "source": [
    "#берем произвольную точку и рядом с ней находит ближайшее решение, лучше сначала нарисовать график\n",
    "x1, y1, h1 =  fsolve(equations, (1, 1, 0)) \n",
    "x1, y1, h1"
   ]
  },
  {
   "cell_type": "code",
   "execution_count": 16,
   "id": "ce24909e",
   "metadata": {},
   "outputs": [],
   "source": [
    "def max_min(result):\n",
    "    if result > 0:\n",
    "        print(f'det = {result}, ({h1}, {x1}, {y1}) - точка максимума')\n",
    "    elif result < 0:\n",
    "        print(f'det = {result}, ({h1}, {x1}, {y1}) - точка минимума')"
   ]
  },
  {
   "cell_type": "code",
   "execution_count": 17,
   "id": "8bbfa57c",
   "metadata": {},
   "outputs": [
    {
     "name": "stdout",
     "output_type": "stream",
     "text": [
      "det = -19007.9999998709, (-0.49999999999836076, -5.656854249468291, 1.4142135623697498) - точка минимума\n"
     ]
    }
   ],
   "source": [
    "result = det_lag(x1, y1, h1)\n",
    "max_min(result)"
   ]
  },
  {
   "cell_type": "code",
   "execution_count": 18,
   "id": "0c6432a1",
   "metadata": {},
   "outputs": [
    {
     "name": "stdout",
     "output_type": "stream",
     "text": [
      "det = -19008.000000003038, (-0.5000000000000283, -5.656854249492813, 1.4142135623732306) - точка минимума\n"
     ]
    }
   ],
   "source": [
    "x1, y1, h1 =  fsolve(equations, (-100, -100, 0))\n",
    "result = det_lag(x1, y1, h1)\n",
    "max_min(result)"
   ]
  },
  {
   "cell_type": "code",
   "execution_count": 19,
   "id": "67414d35",
   "metadata": {},
   "outputs": [
    {
     "name": "stdout",
     "output_type": "stream",
     "text": [
      "det = -19007.999999772113, (-0.5000000000415807, 5.65685424945658, -1.4142135623850833) - точка минимума\n"
     ]
    }
   ],
   "source": [
    "x1, y1, h1 =  fsolve(equations, (-100, -100, 1000))\n",
    "result = det_lag(x1, y1, h1)\n",
    "max_min(result)"
   ]
  },
  {
   "cell_type": "code",
   "execution_count": 20,
   "id": "224a6ad0",
   "metadata": {},
   "outputs": [
    {
     "name": "stdout",
     "output_type": "stream",
     "text": [
      "det = -19007.9999998709, (-0.49999999999836076, -5.656854249468291, 1.4142135623697498) - точка минимума\n"
     ]
    }
   ],
   "source": [
    "x1, y1, h1 =  fsolve(equations, (100, 100, -0.5))\n",
    "result = det_lag(x1, y1, h1)\n",
    "max_min(result)"
   ]
  },
  {
   "cell_type": "code",
   "execution_count": 21,
   "id": "1afe14a7",
   "metadata": {},
   "outputs": [
    {
     "name": "stdout",
     "output_type": "stream",
     "text": [
      "det = 19007.99999944444, (-3.4999999995158144, -5.656854249520023, -1.4142135625302474) - точка максимума\n"
     ]
    }
   ],
   "source": [
    "x1, y1, h1 =  fsolve(equations, (-100, -100, -1000))\n",
    "result = det_lag(x1, y1, h1)\n",
    "max_min(result)"
   ]
  },
  {
   "cell_type": "code",
   "execution_count": 22,
   "id": "406cd5dd",
   "metadata": {},
   "outputs": [
    {
     "name": "stdout",
     "output_type": "stream",
     "text": [
      "det = 19008.00000028701, (-3.500000000031296, 5.65685424951043, 1.4142135623802912) - точка максимума\n"
     ]
    },
    {
     "name": "stderr",
     "output_type": "stream",
     "text": [
      "<ipython-input-2-c9843a4ab38b>:5: RuntimeWarning: overflow encountered in long_scalars\n",
      "  return (2*x+6*y+h*x, 3*x+16*y+8*h*y, x**2+16*y**2-64)\n"
     ]
    }
   ],
   "source": [
    "x1, y1, h1 =  fsolve(equations, (1, 100000, -1000))\n",
    "result = det_lag(x1, y1, h1)\n",
    "max_min(result)"
   ]
  },
  {
   "cell_type": "code",
   "execution_count": null,
   "id": "6e035c1f",
   "metadata": {},
   "outputs": [],
   "source": []
  }
 ],
 "metadata": {
  "kernelspec": {
   "display_name": "Python 3",
   "language": "python",
   "name": "python3"
  },
  "language_info": {
   "codemirror_mode": {
    "name": "ipython",
    "version": 3
   },
   "file_extension": ".py",
   "mimetype": "text/x-python",
   "name": "python",
   "nbconvert_exporter": "python",
   "pygments_lexer": "ipython3",
   "version": "3.8.8"
  }
 },
 "nbformat": 4,
 "nbformat_minor": 5
}
